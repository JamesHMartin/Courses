{
 "cells": [
  {
   "cell_type": "markdown",
   "metadata": {
    "slideshow": {
     "slide_type": "-"
    }
   },
   "source": [
    "# Simple Tokenization and Word Counting with Unix*\n",
    "\n",
    "Let's see how far we can get with using Unix commands to tokenize and count words in plain text files. We'll use the complete works of William Shakespeare as our case study. First we went to Project Gutenberg and grabbed a copy of his complete works as a plain text file. Let's look at the first few lines.\n",
    "\n",
    "\\* Inspired by Ken Church's Unix for Poets"
   ]
  },
  {
   "cell_type": "code",
   "execution_count": 1,
   "metadata": {
    "scrolled": false
   },
   "outputs": [
    {
     "name": "stdout",
     "output_type": "stream",
     "text": [
      "THE SONNETS\n",
      "\n",
      "by William Shakespeare\n",
      "\n",
      "                     1\n",
      "  From fairest creatures we desire increase,\n",
      "  That thereby beauty's rose might never die,\n",
      "  But as the riper should by time decease,\n",
      "  His tender heir might bear his memory:\n",
      "  But thou contracted to thine own bright eyes,\n"
     ]
    }
   ],
   "source": [
    "cat shakes.txt | head"
   ]
  },
  {
   "cell_type": "markdown",
   "metadata": {},
   "source": [
    "Many of the text-oriented Unix tools are line oriented. So it would be useful to have each word on a line by itself. To do this let's do some really dumb tokenization using the 'tr' command. Let's convert anything that isn't an alphabetic character to a carriage return (I said it was dumb).  'tr' works by taking two patterns and converts matches in the first to corresponding elements in the second.  In this case, we're using the -c option which takes the complement of the first pattern.  The -s option collapses repeated translations to a single one. In plain English that means converted anything that isn't a letter to a carriage return. "
   ]
  },
  {
   "cell_type": "code",
   "execution_count": 4,
   "metadata": {
    "collapsed": true
   },
   "outputs": [
    {
     "name": "stdout",
     "output_type": "stream",
     "text": [
      "THE\n",
      "SONNETS\n",
      "by\n",
      "William\n",
      "Shakespeare\n",
      "From\n",
      "fairest\n",
      "creatures\n",
      "we\n",
      "desire\n"
     ]
    }
   ],
   "source": [
    "tr -sc 'A-Za-z' '\\n' < shakes.txt | head"
   ]
  },
  {
   "cell_type": "markdown",
   "metadata": {},
   "source": [
    "Given the one word per line format we can use 'sort' to gather all instances of the same type together."
   ]
  },
  {
   "cell_type": "code",
   "execution_count": 2,
   "metadata": {
    "collapsed": true
   },
   "outputs": [
    {
     "name": "stdout",
     "output_type": "stream",
     "text": [
      "A\n",
      "A\n",
      "A\n",
      "A\n",
      "A\n",
      "A\n",
      "A\n",
      "A\n",
      "A\n",
      "A\n"
     ]
    }
   ],
   "source": [
    "tr -sc 'A-Za-z' '\\n' < shakes.txt | sort | head"
   ]
  },
  {
   "cell_type": "markdown",
   "metadata": {},
   "source": [
    "That's not all that illuminating.  Fortunately, the 'uniq' command can help. Uniq collapses repeated lines to a single line. "
   ]
  },
  {
   "cell_type": "code",
   "execution_count": 5,
   "metadata": {
    "collapsed": true
   },
   "outputs": [
    {
     "name": "stdout",
     "output_type": "stream",
     "text": [
      "\n",
      "A\n",
      "AARON\n",
      "ABBESS\n",
      "ABBOT\n",
      "ABERGAVENNY\n",
      "ABHORSON\n",
      "ABOUT\n",
      "ACHILLES\n",
      "ACT\n"
     ]
    }
   ],
   "source": [
    "tr -sc 'A-Za-z' '\\n' < shakes.txt | sort | uniq | head"
   ]
  },
  {
   "cell_type": "markdown",
   "metadata": {},
   "source": [
    "Counting the number of lines using 'wc' will give us the size of Shakespeare's vocabulary. "
   ]
  },
  {
   "cell_type": "code",
   "execution_count": 3,
   "metadata": {
    "collapsed": true
   },
   "outputs": [
    {
     "name": "stdout",
     "output_type": "stream",
     "text": [
      "   29152\n"
     ]
    }
   ],
   "source": [
    "tr -sc 'A-Za-z' '\\n' < shakes.txt | sort | uniq | wc -l"
   ]
  },
  {
   "cell_type": "markdown",
   "metadata": {},
   "source": [
    "That's probably off since we're treating lower case and upper case separately, so he's getting double credit for the same word. We can use 'tr' again to fix that by first downcasing everything."
   ]
  },
  {
   "cell_type": "code",
   "execution_count": 5,
   "metadata": {
    "collapsed": true
   },
   "outputs": [],
   "source": [
    "tr 'A-Z' 'a-z' < shakes.txt > shakesdown.txt"
   ]
  },
  {
   "cell_type": "code",
   "execution_count": 7,
   "metadata": {
    "collapsed": true
   },
   "outputs": [
    {
     "name": "stdout",
     "output_type": "stream",
     "text": [
      "   23512\n"
     ]
    }
   ],
   "source": [
    "tr -cs \"a-z\" '\\n' < shakesdown.txt | sort | uniq | wc -l"
   ]
  },
  {
   "cell_type": "markdown",
   "metadata": {},
   "source": [
    "That's more like it. Now it might be good to know the frequency with which he used each of those words. Fortunately, the -c option to 'uniq' that gives us the count as it collapses those repeated lines."
   ]
  },
  {
   "cell_type": "code",
   "execution_count": 13,
   "metadata": {
    "collapsed": true
   },
   "outputs": [
    {
     "name": "stdout",
     "output_type": "stream",
     "text": [
      "   1 \n",
      "14725 a\n",
      "  97 aaron\n",
      "   1 abaissiez\n",
      "  10 abandon\n",
      "   2 abandoned\n",
      "   2 abase\n",
      "   1 abash\n",
      "  14 abate\n",
      "   3 abated\n"
     ]
    }
   ],
   "source": [
    "tr -sc 'a-z' '\\n' | sort | uniq -c | head"
   ]
  },
  {
   "cell_type": "markdown",
   "metadata": {},
   "source": [
    "Probably more useful if that was sorted numerically by frequency.  "
   ]
  },
  {
   "cell_type": "code",
   "execution_count": 9,
   "metadata": {
    "collapsed": true
   },
   "outputs": [
    {
     "name": "stdout",
     "output_type": "stream",
     "text": [
      "27378 the\n",
      "26084 and\n",
      "22538 i\n",
      "19771 to\n",
      "17481 of\n",
      "14725 a\n",
      "13826 you\n",
      "12490 my\n",
      "11318 that\n",
      "11112 in\n"
     ]
    }
   ],
   "source": [
    "tr -sc 'a-z' '\\n' < shakesdown.txt | sort | uniq -c | sort -rn | head"
   ]
  },
  {
   "cell_type": "markdown",
   "metadata": {},
   "source": [
    "If we save those counts and plot them from the highest to lowest we get a pattern that we'll see again and again. Let's save the 1000 most frequent words and then look at a plot of that."
   ]
  },
  {
   "cell_type": "code",
   "execution_count": 10,
   "metadata": {
    "collapsed": true
   },
   "outputs": [],
   "source": [
    "tr -sc 'a-z' '\\n' < shakesdown.txt | sort | uniq -c | sort -rn | head -n 1000 > shakes-top-1000.txt"
   ]
  },
  {
   "cell_type": "markdown",
   "metadata": {},
   "source": [
    "This is a very common kind of distribution called a long tail distribution.  The highest frequency words are very frequent. But word frequency drops very quickly until we have a long long tail of words that have occured only one time. For word frequencies this typically corresponds to what's called a Zipf distribution. It has large implications for how we build statistical models using machine learning methods. "
   ]
  },
  {
   "cell_type": "code",
   "execution_count": 11,
   "metadata": {},
   "outputs": [
    {
     "name": "stdout",
     "output_type": "stream",
     "text": []
    },
    {
     "data": {
      "image/png": "[encoded data removed]"
     },
     "metadata": {},
     "output_type": "display_data"
    }
   ],
   "source": [
    "python word-freq-plot.py shakes-top-1000.txt | display"
   ]
  }
 ],
 "metadata": {
  "kernelspec": {
   "display_name": "Bash",
   "language": "bash",
   "name": "bash"
  },
  "language_info": {
   "codemirror_mode": "shell",
   "file_extension": ".sh",
   "mimetype": "text/x-sh",
   "name": "bash"
  }
 },
 "nbformat": 4,
 "nbformat_minor": 2
}
